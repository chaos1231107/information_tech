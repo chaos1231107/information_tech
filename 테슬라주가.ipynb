{
  "nbformat": 4,
  "nbformat_minor": 0,
  "metadata": {
    "colab": {
      "provenance": [],
      "authorship_tag": "ABX9TyNMyRJbrNF1snsIaF7lu2/B",
      "include_colab_link": true
    },
    "kernelspec": {
      "name": "python3",
      "display_name": "Python 3"
    },
    "language_info": {
      "name": "python"
    }
  },
  "cells": [
    {
      "cell_type": "markdown",
      "metadata": {
        "id": "view-in-github",
        "colab_type": "text"
      },
      "source": [
        "<a href=\"https://colab.research.google.com/github/chaos1231107/information_tech/blob/main/%ED%85%8C%EC%8A%AC%EB%9D%BC%EC%A3%BC%EA%B0%80.ipynb\" target=\"_parent\"><img src=\"https://colab.research.google.com/assets/colab-badge.svg\" alt=\"Open In Colab\"/></a>"
      ]
    },
    {
      "cell_type": "code",
      "execution_count": 4,
      "metadata": {
        "colab": {
          "base_uri": "https://localhost:8080/"
        },
        "id": "LDAXya0OUDw9",
        "outputId": "ba922ea0-d989-484a-c26e-b73e5fb4bedf"
      },
      "outputs": [
        {
          "output_type": "stream",
          "name": "stdout",
          "text": [
            "Requirement already satisfied: yfinance in /usr/local/lib/python3.10/dist-packages (0.2.31)\n",
            "Requirement already satisfied: pandas>=1.3.0 in /usr/local/lib/python3.10/dist-packages (from yfinance) (1.5.3)\n",
            "Requirement already satisfied: numpy>=1.16.5 in /usr/local/lib/python3.10/dist-packages (from yfinance) (1.23.5)\n",
            "Requirement already satisfied: requests>=2.31 in /usr/local/lib/python3.10/dist-packages (from yfinance) (2.31.0)\n",
            "Requirement already satisfied: multitasking>=0.0.7 in /usr/local/lib/python3.10/dist-packages (from yfinance) (0.0.11)\n",
            "Requirement already satisfied: lxml>=4.9.1 in /usr/local/lib/python3.10/dist-packages (from yfinance) (4.9.3)\n",
            "Requirement already satisfied: appdirs>=1.4.4 in /usr/local/lib/python3.10/dist-packages (from yfinance) (1.4.4)\n",
            "Requirement already satisfied: pytz>=2022.5 in /usr/local/lib/python3.10/dist-packages (from yfinance) (2023.3.post1)\n",
            "Requirement already satisfied: frozendict>=2.3.4 in /usr/local/lib/python3.10/dist-packages (from yfinance) (2.3.8)\n",
            "Requirement already satisfied: peewee>=3.16.2 in /usr/local/lib/python3.10/dist-packages (from yfinance) (3.17.0)\n",
            "Requirement already satisfied: beautifulsoup4>=4.11.1 in /usr/local/lib/python3.10/dist-packages (from yfinance) (4.11.2)\n",
            "Requirement already satisfied: html5lib>=1.1 in /usr/local/lib/python3.10/dist-packages (from yfinance) (1.1)\n",
            "Requirement already satisfied: soupsieve>1.2 in /usr/local/lib/python3.10/dist-packages (from beautifulsoup4>=4.11.1->yfinance) (2.5)\n",
            "Requirement already satisfied: six>=1.9 in /usr/local/lib/python3.10/dist-packages (from html5lib>=1.1->yfinance) (1.16.0)\n",
            "Requirement already satisfied: webencodings in /usr/local/lib/python3.10/dist-packages (from html5lib>=1.1->yfinance) (0.5.1)\n",
            "Requirement already satisfied: python-dateutil>=2.8.1 in /usr/local/lib/python3.10/dist-packages (from pandas>=1.3.0->yfinance) (2.8.2)\n",
            "Requirement already satisfied: charset-normalizer<4,>=2 in /usr/local/lib/python3.10/dist-packages (from requests>=2.31->yfinance) (3.3.2)\n",
            "Requirement already satisfied: idna<4,>=2.5 in /usr/local/lib/python3.10/dist-packages (from requests>=2.31->yfinance) (3.4)\n",
            "Requirement already satisfied: urllib3<3,>=1.21.1 in /usr/local/lib/python3.10/dist-packages (from requests>=2.31->yfinance) (2.0.7)\n",
            "Requirement already satisfied: certifi>=2017.4.17 in /usr/local/lib/python3.10/dist-packages (from requests>=2.31->yfinance) (2023.7.22)\n"
          ]
        }
      ],
      "source": [
        "!pip install yfinance\n"
      ]
    },
    {
      "cell_type": "code",
      "source": [
        "import yfinance as yf\n",
        "import datetime\n",
        "\n",
        "# 테슬라(TSLA) 주식의 데이터를 가져오기 위해 yf.Ticker()를 사용합니다.\n",
        "tesla = yf.Ticker(\"TSLA\")\n",
        "\n",
        "# 오늘 날짜부터 10년 전의 날짜 계산\n",
        "start_date = datetime.datetime.now() - datetime.timedelta(days=10*365)\n",
        "\n",
        "# yfinance의 history() 함수를 사용하여 주가 데이터를 가져옵니다.\n",
        "tesla_data = tesla.history(start=start_date)\n",
        "\n",
        "print(tesla_data)\n"
      ],
      "metadata": {
        "colab": {
          "base_uri": "https://localhost:8080/"
        },
        "id": "bzKxzesxV2Fh",
        "outputId": "0c75c678-703c-49a1-c7ac-378591520d29"
      },
      "execution_count": 5,
      "outputs": [
        {
          "output_type": "stream",
          "name": "stdout",
          "text": [
            "                                 Open        High         Low       Close  \\\n",
            "Date                                                                        \n",
            "2013-11-18 00:00:00-05:00    9.018000    9.030000    7.974000    8.105333   \n",
            "2013-11-19 00:00:00-05:00    7.962000    8.600000    7.948000    8.406000   \n",
            "2013-11-20 00:00:00-05:00    8.405333    8.496667    7.937333    8.074000   \n",
            "2013-11-21 00:00:00-05:00    8.192667    8.319333    8.016667    8.140000   \n",
            "2013-11-22 00:00:00-05:00    8.105333    8.183333    7.862000    8.092000   \n",
            "...                               ...         ...         ...         ...   \n",
            "2023-11-07 00:00:00-05:00  219.979996  223.119995  215.720001  222.179993   \n",
            "2023-11-08 00:00:00-05:00  223.149994  224.149994  217.639999  222.110001   \n",
            "2023-11-09 00:00:00-05:00  219.750000  220.800003  206.679993  209.979996   \n",
            "2023-11-10 00:00:00-05:00  210.029999  215.380005  205.690002  214.649994   \n",
            "2023-11-13 00:00:00-05:00  215.600006  225.399994  211.610001  223.710007   \n",
            "\n",
            "                              Volume  Dividends  Stock Splits  \n",
            "Date                                                           \n",
            "2013-11-18 00:00:00-05:00  347073000        0.0           0.0  \n",
            "2013-11-19 00:00:00-05:00  297243000        0.0           0.0  \n",
            "2013-11-20 00:00:00-05:00  207744000        0.0           0.0  \n",
            "2013-11-21 00:00:00-05:00  178557000        0.0           0.0  \n",
            "2013-11-22 00:00:00-05:00  166450500        0.0           0.0  \n",
            "...                              ...        ...           ...  \n",
            "2023-11-07 00:00:00-05:00  116900100        0.0           0.0  \n",
            "2023-11-08 00:00:00-05:00  106584800        0.0           0.0  \n",
            "2023-11-09 00:00:00-05:00  142110500        0.0           0.0  \n",
            "2023-11-10 00:00:00-05:00  130994000        0.0           0.0  \n",
            "2023-11-13 00:00:00-05:00  139601900        0.0           0.0  \n",
            "\n",
            "[2514 rows x 7 columns]\n"
          ]
        }
      ]
    }
  ]
}