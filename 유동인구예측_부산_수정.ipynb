{
 "cells": [
  {
   "cell_type": "code",
   "execution_count": 39,
   "metadata": {
    "id": "sw-WngQOJyYL"
   },
   "outputs": [],
   "source": [
    "# 라이브러리 불러오기\n",
    "import numpy as np   #넘파이 라이브러리(수치관련)\n",
    "import pandas as pd  #판다스 라이브러리(데이터분석)\n",
    "import seaborn as sns #시각화 라이브러리\n",
    "import matplotlib.pyplot as plt #시각화 라이브러리\n",
    "import warnings\n",
    "warnings.filterwarnings(action='ignore')\n",
    "from IPython.display import set_matplotlib_formats\n",
    "pd.set_option('display.max_columns', None)  #df.head()할때 모든 컬럼 표시되게\n",
    "\n",
    "#쥬피터노트북\n",
    "plt.rc('font', family='AppleGothic') #mac os Apple Gothic\n",
    "\n",
    "# matplotlib에 한국어 표시를 위해 koreanize_matplotlib를 import하고 한국어 표시가 되는지 테스트"
   ]
  },
  {
   "cell_type": "code",
   "execution_count": 40,
   "metadata": {
    "id": "x8WDKyFMCO0t"
   },
   "outputs": [
    {
     "name": "stdout",
     "output_type": "stream",
     "text": [
      "<class 'pandas.core.frame.DataFrame'>\n",
      "RangeIndex: 596 entries, 0 to 595\n",
      "Data columns (total 52 columns):\n",
      " #   Column        Non-Null Count  Dtype  \n",
      "---  ------        --------------  -----  \n",
      " 0   날짜            596 non-null    object \n",
      " 1   전체            596 non-null    int64  \n",
      " 2   남천동 20-24     596 non-null    int64  \n",
      " 3   남천동 24-3      596 non-null    int64  \n",
      " 4   남천동 78-1      596 non-null    int64  \n",
      " 5   남천동 231-2     596 non-null    int64  \n",
      " 6   남천동 205-903   596 non-null    int64  \n",
      " 7   남천동549        596 non-null    int64  \n",
      " 8   남천동17-1       596 non-null    int64  \n",
      " 9   남천동 10-19     596 non-null    int64  \n",
      " 10  남천동 148-11    596 non-null    int64  \n",
      " 11  남천동 148-73    596 non-null    int64  \n",
      " 12  남천동 3-57      596 non-null    int64  \n",
      " 13  남천동 6-12      596 non-null    int64  \n",
      " 14  남천동 148-12    596 non-null    int64  \n",
      " 15  광안동 153-42    596 non-null    int64  \n",
      " 16  광안동 144-54    596 non-null    int64  \n",
      " 17  민락동 185-5     596 non-null    int64  \n",
      " 18  광안동 191-18    596 non-null    int64  \n",
      " 19  광안동 163-5     596 non-null    int64  \n",
      " 20  광안동 167-19    596 non-null    int64  \n",
      " 21  광안동 178-31    596 non-null    int64  \n",
      " 22  광안동 182-13    596 non-null    int64  \n",
      " 23  남천동 26-21     596 non-null    int64  \n",
      " 24  남천동 3-29      596 non-null    int64  \n",
      " 25  광안동 204-1     596 non-null    int64  \n",
      " 26  광안동 200-8     596 non-null    int64  \n",
      " 27  광안동 197-7     596 non-null    int64  \n",
      " 28  광안동 197-1     596 non-null    int64  \n",
      " 29  광안동 196-5     596 non-null    int64  \n",
      " 30  광안동 193-4     596 non-null    int64  \n",
      " 31  민락동 175-20    596 non-null    int64  \n",
      " 32  민락동 171-15    596 non-null    int64  \n",
      " 33  민락동 175-16    596 non-null    int64  \n",
      " 34  민락동 178-12    596 non-null    int64  \n",
      " 35  민락동 205-8     596 non-null    int64  \n",
      " 36  민락동 176-33    596 non-null    int64  \n",
      " 37  민락동 18-14     596 non-null    int64  \n",
      " 38  민락동 33-5      596 non-null    int64  \n",
      " 39  민락동 192-4     596 non-null    int64  \n",
      " 40  민락동 745-3     596 non-null    int64  \n",
      " 41  민락동 110-75    596 non-null    int64  \n",
      " 42  민락동 113-33    596 non-null    int64  \n",
      " 43  민락수변공원(1)     596 non-null    int64  \n",
      " 44  민락동 110-88    596 non-null    int64  \n",
      " 45  민락동 110-17    596 non-null    int64  \n",
      " 46  민락동 181-201   596 non-null    int64  \n",
      " 47  민락동 181-87    596 non-null    int64  \n",
      " 48  민락동 113-45    596 non-null    int64  \n",
      " 49  Unnamed: 49   567 non-null    float64\n",
      " 50  Unnamed: 50   536 non-null    float64\n",
      " 51  Unnamed: 51   508 non-null    float64\n",
      "dtypes: float64(3), int64(48), object(1)\n",
      "memory usage: 242.3+ KB\n"
     ]
    }
   ],
   "source": [
    "df = pd.read_csv('./busan_combine.csv', encoding='cp949')\n",
    "df.info()"
   ]
  },
  {
   "cell_type": "code",
   "execution_count": 41,
   "metadata": {},
   "outputs": [
    {
     "name": "stdout",
     "output_type": "stream",
     "text": [
      "<class 'pandas.core.frame.DataFrame'>\n",
      "RangeIndex: 596 entries, 0 to 595\n",
      "Data columns (total 52 columns):\n",
      " #   Column        Non-Null Count  Dtype  \n",
      "---  ------        --------------  -----  \n",
      " 0   날짜            596 non-null    object \n",
      " 1   전체            596 non-null    int64  \n",
      " 2   남천동 20-24     596 non-null    int64  \n",
      " 3   남천동 24-3      596 non-null    int64  \n",
      " 4   남천동 78-1      596 non-null    int64  \n",
      " 5   남천동 231-2     596 non-null    int64  \n",
      " 6   남천동 205-903   596 non-null    int64  \n",
      " 7   남천동549        596 non-null    int64  \n",
      " 8   남천동17-1       596 non-null    int64  \n",
      " 9   남천동 10-19     596 non-null    int64  \n",
      " 10  남천동 148-11    596 non-null    int64  \n",
      " 11  남천동 148-73    596 non-null    int64  \n",
      " 12  남천동 3-57      596 non-null    int64  \n",
      " 13  남천동 6-12      596 non-null    int64  \n",
      " 14  남천동 148-12    596 non-null    int64  \n",
      " 15  광안동 153-42    596 non-null    int64  \n",
      " 16  광안동 144-54    596 non-null    int64  \n",
      " 17  민락동 185-5     596 non-null    int64  \n",
      " 18  광안동 191-18    596 non-null    int64  \n",
      " 19  광안동 163-5     596 non-null    int64  \n",
      " 20  광안동 167-19    596 non-null    int64  \n",
      " 21  광안동 178-31    596 non-null    int64  \n",
      " 22  광안동 182-13    596 non-null    int64  \n",
      " 23  남천동 26-21     596 non-null    int64  \n",
      " 24  남천동 3-29      596 non-null    int64  \n",
      " 25  광안동 204-1     596 non-null    int64  \n",
      " 26  광안동 200-8     596 non-null    int64  \n",
      " 27  광안동 197-7     596 non-null    int64  \n",
      " 28  광안동 197-1     596 non-null    int64  \n",
      " 29  광안동 196-5     596 non-null    int64  \n",
      " 30  광안동 193-4     596 non-null    int64  \n",
      " 31  민락동 175-20    596 non-null    int64  \n",
      " 32  민락동 171-15    596 non-null    int64  \n",
      " 33  민락동 175-16    596 non-null    int64  \n",
      " 34  민락동 178-12    596 non-null    int64  \n",
      " 35  민락동 205-8     596 non-null    int64  \n",
      " 36  민락동 176-33    596 non-null    int64  \n",
      " 37  민락동 18-14     596 non-null    int64  \n",
      " 38  민락동 33-5      596 non-null    int64  \n",
      " 39  민락동 192-4     596 non-null    int64  \n",
      " 40  민락동 745-3     596 non-null    int64  \n",
      " 41  민락동 110-75    596 non-null    int64  \n",
      " 42  민락동 113-33    596 non-null    int64  \n",
      " 43  민락수변공원(1)     596 non-null    int64  \n",
      " 44  민락동 110-88    596 non-null    int64  \n",
      " 45  민락동 110-17    596 non-null    int64  \n",
      " 46  민락동 181-201   596 non-null    int64  \n",
      " 47  민락동 181-87    596 non-null    int64  \n",
      " 48  민락동 113-45    596 non-null    int64  \n",
      " 49  Unnamed: 49   567 non-null    float64\n",
      " 50  Unnamed: 50   536 non-null    float64\n",
      " 51  Unnamed: 51   508 non-null    float64\n",
      "dtypes: float64(3), int64(48), object(1)\n",
      "memory usage: 242.3+ KB\n"
     ]
    }
   ],
   "source": [
    "from datetime import datetime\n",
    "# '날짜' 열의 각 값을 datetime 객체로 변환\n",
    "df['날짜'] = df['날짜'].apply(lambda x: datetime.strptime(x, \"%d/%m/%Y\"))\n",
    "\n",
    "# 새로운 형식으로 변환\n",
    "df['날짜'] = df['날짜'].apply(lambda x: x.strftime(\"%Y-%m-%d\"))\n",
    "df.info()"
   ]
  },
  {
   "cell_type": "code",
   "execution_count": 42,
   "metadata": {
    "id": "uUXddZBMCqaX"
   },
   "outputs": [],
   "source": [
    "columns_to_drop = [col for col in df.columns if '광안' in col or '남천' in col] #남천, 광안\n",
    "\n",
    "# 해당 컬럼 삭제\n",
    "df.drop(columns=columns_to_drop, inplace=True)\n",
    "df.drop(columns=['Unnamed: 49','Unnamed: 50','Unnamed: 51','전체'], inplace=True)"
   ]
  },
  {
   "cell_type": "code",
   "execution_count": 43,
   "metadata": {
    "colab": {
     "base_uri": "https://localhost:8080/"
    },
    "id": "3uB-JijhDkdh",
    "outputId": "af13a5c4-f8b6-4ee9-9481-e19d81b1d3c6"
   },
   "outputs": [
    {
     "name": "stdout",
     "output_type": "stream",
     "text": [
      "<class 'pandas.core.frame.DataFrame'>\n",
      "RangeIndex: 596 entries, 0 to 595\n",
      "Data columns (total 20 columns):\n",
      " #   Column        Non-Null Count  Dtype \n",
      "---  ------        --------------  ----- \n",
      " 0   날짜            596 non-null    object\n",
      " 1   민락동 185-5     596 non-null    int64 \n",
      " 2   민락동 175-20    596 non-null    int64 \n",
      " 3   민락동 171-15    596 non-null    int64 \n",
      " 4   민락동 175-16    596 non-null    int64 \n",
      " 5   민락동 178-12    596 non-null    int64 \n",
      " 6   민락동 205-8     596 non-null    int64 \n",
      " 7   민락동 176-33    596 non-null    int64 \n",
      " 8   민락동 18-14     596 non-null    int64 \n",
      " 9   민락동 33-5      596 non-null    int64 \n",
      " 10  민락동 192-4     596 non-null    int64 \n",
      " 11  민락동 745-3     596 non-null    int64 \n",
      " 12  민락동 110-75    596 non-null    int64 \n",
      " 13  민락동 113-33    596 non-null    int64 \n",
      " 14  민락수변공원(1)     596 non-null    int64 \n",
      " 15  민락동 110-88    596 non-null    int64 \n",
      " 16  민락동 110-17    596 non-null    int64 \n",
      " 17  민락동 181-201   596 non-null    int64 \n",
      " 18  민락동 181-87    596 non-null    int64 \n",
      " 19  민락동 113-45    596 non-null    int64 \n",
      "dtypes: int64(19), object(1)\n",
      "memory usage: 93.3+ KB\n"
     ]
    }
   ],
   "source": [
    "df.info()"
   ]
  },
  {
   "cell_type": "code",
   "execution_count": null,
   "metadata": {
    "id": "7EZS4VkuG6lD"
   },
   "outputs": [],
   "source": []
  },
  {
   "cell_type": "code",
   "execution_count": 44,
   "metadata": {
    "colab": {
     "base_uri": "https://localhost:8080/",
     "height": 496
    },
    "id": "p2GoS_LZE3zx",
    "outputId": "0166531f-123e-4516-9e16-f69cdda9698b"
   },
   "outputs": [
    {
     "name": "stdout",
     "output_type": "stream",
     "text": [
      "['민락동 185-5 ', '민락동 175-20 ', '민락동 171-15 ', '민락동 175-16 ', '민락동 178-12 ', '민락동 205-8 ', '민락동 176-33 ', '민락동 18-14 ', '민락동 33-5 ', '민락동 192-4 ', '민락동 745-3 ', '민락동 110-75 ', '민락동 113-33 ', '민락수변공원(1) ', '민락동 110-88 ', '민락동 110-17 ', '민락동 181-201 ', '민락동 181-87 ', '민락동 113-45 ']\n"
     ]
    },
    {
     "data": {
      "text/html": [
       "<div>\n",
       "<style scoped>\n",
       "    .dataframe tbody tr th:only-of-type {\n",
       "        vertical-align: middle;\n",
       "    }\n",
       "\n",
       "    .dataframe tbody tr th {\n",
       "        vertical-align: top;\n",
       "    }\n",
       "\n",
       "    .dataframe thead th {\n",
       "        text-align: right;\n",
       "    }\n",
       "</style>\n",
       "<table border=\"1\" class=\"dataframe\">\n",
       "  <thead>\n",
       "    <tr style=\"text-align: right;\">\n",
       "      <th></th>\n",
       "      <th>날짜</th>\n",
       "      <th>민락동 185-5</th>\n",
       "      <th>민락동 175-20</th>\n",
       "      <th>민락동 171-15</th>\n",
       "      <th>민락동 175-16</th>\n",
       "      <th>민락동 178-12</th>\n",
       "      <th>민락동 205-8</th>\n",
       "      <th>민락동 176-33</th>\n",
       "      <th>민락동 18-14</th>\n",
       "      <th>민락동 33-5</th>\n",
       "      <th>민락동 192-4</th>\n",
       "      <th>민락동 745-3</th>\n",
       "      <th>민락동 110-75</th>\n",
       "      <th>민락동 113-33</th>\n",
       "      <th>민락수변공원(1)</th>\n",
       "      <th>민락동 110-88</th>\n",
       "      <th>민락동 110-17</th>\n",
       "      <th>민락동 181-201</th>\n",
       "      <th>민락동 181-87</th>\n",
       "      <th>민락동 113-45</th>\n",
       "      <th>합계</th>\n",
       "    </tr>\n",
       "  </thead>\n",
       "  <tbody>\n",
       "    <tr>\n",
       "      <th>0</th>\n",
       "      <td>2021-12-01</td>\n",
       "      <td>9010</td>\n",
       "      <td>1241</td>\n",
       "      <td>1594</td>\n",
       "      <td>2743</td>\n",
       "      <td>2396</td>\n",
       "      <td>4383</td>\n",
       "      <td>7604</td>\n",
       "      <td>2372</td>\n",
       "      <td>3631</td>\n",
       "      <td>5888</td>\n",
       "      <td>3624</td>\n",
       "      <td>2557</td>\n",
       "      <td>3180</td>\n",
       "      <td>2431</td>\n",
       "      <td>2319</td>\n",
       "      <td>424</td>\n",
       "      <td>2665</td>\n",
       "      <td>4295</td>\n",
       "      <td>2328</td>\n",
       "      <td>64685</td>\n",
       "    </tr>\n",
       "    <tr>\n",
       "      <th>1</th>\n",
       "      <td>2021-12-02</td>\n",
       "      <td>9224</td>\n",
       "      <td>1067</td>\n",
       "      <td>1535</td>\n",
       "      <td>2809</td>\n",
       "      <td>2289</td>\n",
       "      <td>4511</td>\n",
       "      <td>7864</td>\n",
       "      <td>2279</td>\n",
       "      <td>3767</td>\n",
       "      <td>5759</td>\n",
       "      <td>3792</td>\n",
       "      <td>2740</td>\n",
       "      <td>3360</td>\n",
       "      <td>2952</td>\n",
       "      <td>2473</td>\n",
       "      <td>423</td>\n",
       "      <td>2477</td>\n",
       "      <td>4222</td>\n",
       "      <td>2550</td>\n",
       "      <td>66093</td>\n",
       "    </tr>\n",
       "    <tr>\n",
       "      <th>2</th>\n",
       "      <td>2021-12-03</td>\n",
       "      <td>11631</td>\n",
       "      <td>1358</td>\n",
       "      <td>1686</td>\n",
       "      <td>3489</td>\n",
       "      <td>3349</td>\n",
       "      <td>5957</td>\n",
       "      <td>10190</td>\n",
       "      <td>2715</td>\n",
       "      <td>4067</td>\n",
       "      <td>7152</td>\n",
       "      <td>4384</td>\n",
       "      <td>3093</td>\n",
       "      <td>4063</td>\n",
       "      <td>3230</td>\n",
       "      <td>2937</td>\n",
       "      <td>485</td>\n",
       "      <td>3315</td>\n",
       "      <td>5318</td>\n",
       "      <td>3095</td>\n",
       "      <td>81514</td>\n",
       "    </tr>\n",
       "    <tr>\n",
       "      <th>3</th>\n",
       "      <td>2021-12-04</td>\n",
       "      <td>16897</td>\n",
       "      <td>1705</td>\n",
       "      <td>2340</td>\n",
       "      <td>5634</td>\n",
       "      <td>5128</td>\n",
       "      <td>8567</td>\n",
       "      <td>14467</td>\n",
       "      <td>2637</td>\n",
       "      <td>5168</td>\n",
       "      <td>8875</td>\n",
       "      <td>5003</td>\n",
       "      <td>3766</td>\n",
       "      <td>6231</td>\n",
       "      <td>4654</td>\n",
       "      <td>3889</td>\n",
       "      <td>734</td>\n",
       "      <td>4788</td>\n",
       "      <td>7708</td>\n",
       "      <td>4599</td>\n",
       "      <td>112790</td>\n",
       "    </tr>\n",
       "    <tr>\n",
       "      <th>4</th>\n",
       "      <td>2021-12-05</td>\n",
       "      <td>12463</td>\n",
       "      <td>1474</td>\n",
       "      <td>2077</td>\n",
       "      <td>4433</td>\n",
       "      <td>3997</td>\n",
       "      <td>7089</td>\n",
       "      <td>11603</td>\n",
       "      <td>2193</td>\n",
       "      <td>3506</td>\n",
       "      <td>6975</td>\n",
       "      <td>3813</td>\n",
       "      <td>3508</td>\n",
       "      <td>5692</td>\n",
       "      <td>4242</td>\n",
       "      <td>3456</td>\n",
       "      <td>622</td>\n",
       "      <td>4046</td>\n",
       "      <td>5671</td>\n",
       "      <td>4126</td>\n",
       "      <td>90986</td>\n",
       "    </tr>\n",
       "    <tr>\n",
       "      <th>...</th>\n",
       "      <td>...</td>\n",
       "      <td>...</td>\n",
       "      <td>...</td>\n",
       "      <td>...</td>\n",
       "      <td>...</td>\n",
       "      <td>...</td>\n",
       "      <td>...</td>\n",
       "      <td>...</td>\n",
       "      <td>...</td>\n",
       "      <td>...</td>\n",
       "      <td>...</td>\n",
       "      <td>...</td>\n",
       "      <td>...</td>\n",
       "      <td>...</td>\n",
       "      <td>...</td>\n",
       "      <td>...</td>\n",
       "      <td>...</td>\n",
       "      <td>...</td>\n",
       "      <td>...</td>\n",
       "      <td>...</td>\n",
       "      <td>...</td>\n",
       "    </tr>\n",
       "    <tr>\n",
       "      <th>591</th>\n",
       "      <td>2023-08-27</td>\n",
       "      <td>14971</td>\n",
       "      <td>16832</td>\n",
       "      <td>17694</td>\n",
       "      <td>2264</td>\n",
       "      <td>4203</td>\n",
       "      <td>7600</td>\n",
       "      <td>8383</td>\n",
       "      <td>10875</td>\n",
       "      <td>1885</td>\n",
       "      <td>677</td>\n",
       "      <td>7406</td>\n",
       "      <td>3487</td>\n",
       "      <td>3169</td>\n",
       "      <td>2528</td>\n",
       "      <td>3295</td>\n",
       "      <td>3863</td>\n",
       "      <td>3562</td>\n",
       "      <td>4064</td>\n",
       "      <td>3780</td>\n",
       "      <td>120538</td>\n",
       "    </tr>\n",
       "    <tr>\n",
       "      <th>592</th>\n",
       "      <td>2023-08-28</td>\n",
       "      <td>10917</td>\n",
       "      <td>10972</td>\n",
       "      <td>13070</td>\n",
       "      <td>1869</td>\n",
       "      <td>2638</td>\n",
       "      <td>5381</td>\n",
       "      <td>5430</td>\n",
       "      <td>6115</td>\n",
       "      <td>2356</td>\n",
       "      <td>654</td>\n",
       "      <td>7103</td>\n",
       "      <td>3305</td>\n",
       "      <td>2096</td>\n",
       "      <td>1896</td>\n",
       "      <td>2332</td>\n",
       "      <td>2995</td>\n",
       "      <td>2669</td>\n",
       "      <td>3144</td>\n",
       "      <td>2834</td>\n",
       "      <td>87776</td>\n",
       "    </tr>\n",
       "    <tr>\n",
       "      <th>593</th>\n",
       "      <td>2023-08-29</td>\n",
       "      <td>7578</td>\n",
       "      <td>8104</td>\n",
       "      <td>9717</td>\n",
       "      <td>1464</td>\n",
       "      <td>1813</td>\n",
       "      <td>3861</td>\n",
       "      <td>4064</td>\n",
       "      <td>2174</td>\n",
       "      <td>1908</td>\n",
       "      <td>572</td>\n",
       "      <td>5761</td>\n",
       "      <td>2882</td>\n",
       "      <td>1663</td>\n",
       "      <td>1470</td>\n",
       "      <td>1601</td>\n",
       "      <td>2275</td>\n",
       "      <td>1980</td>\n",
       "      <td>2604</td>\n",
       "      <td>2445</td>\n",
       "      <td>63936</td>\n",
       "    </tr>\n",
       "    <tr>\n",
       "      <th>594</th>\n",
       "      <td>2023-08-30</td>\n",
       "      <td>8475</td>\n",
       "      <td>9654</td>\n",
       "      <td>10925</td>\n",
       "      <td>1619</td>\n",
       "      <td>2061</td>\n",
       "      <td>3959</td>\n",
       "      <td>4461</td>\n",
       "      <td>1378</td>\n",
       "      <td>2186</td>\n",
       "      <td>549</td>\n",
       "      <td>5894</td>\n",
       "      <td>2790</td>\n",
       "      <td>2109</td>\n",
       "      <td>1711</td>\n",
       "      <td>1930</td>\n",
       "      <td>2733</td>\n",
       "      <td>2166</td>\n",
       "      <td>2760</td>\n",
       "      <td>2745</td>\n",
       "      <td>70105</td>\n",
       "    </tr>\n",
       "    <tr>\n",
       "      <th>595</th>\n",
       "      <td>2023-08-31</td>\n",
       "      <td>7447</td>\n",
       "      <td>7904</td>\n",
       "      <td>8933</td>\n",
       "      <td>1406</td>\n",
       "      <td>1724</td>\n",
       "      <td>3499</td>\n",
       "      <td>3917</td>\n",
       "      <td>505</td>\n",
       "      <td>1878</td>\n",
       "      <td>589</td>\n",
       "      <td>5385</td>\n",
       "      <td>2609</td>\n",
       "      <td>1816</td>\n",
       "      <td>1487</td>\n",
       "      <td>1742</td>\n",
       "      <td>2269</td>\n",
       "      <td>2055</td>\n",
       "      <td>2448</td>\n",
       "      <td>2566</td>\n",
       "      <td>60179</td>\n",
       "    </tr>\n",
       "  </tbody>\n",
       "</table>\n",
       "<p>596 rows × 21 columns</p>\n",
       "</div>"
      ],
      "text/plain": [
       "             날짜  민락동 185-5   민락동 175-20   민락동 171-15   민락동 175-16   \\\n",
       "0    2021-12-01        9010         1241         1594         2743   \n",
       "1    2021-12-02        9224         1067         1535         2809   \n",
       "2    2021-12-03       11631         1358         1686         3489   \n",
       "3    2021-12-04       16897         1705         2340         5634   \n",
       "4    2021-12-05       12463         1474         2077         4433   \n",
       "..          ...         ...          ...          ...          ...   \n",
       "591  2023-08-27       14971        16832        17694         2264   \n",
       "592  2023-08-28       10917        10972        13070         1869   \n",
       "593  2023-08-29        7578         8104         9717         1464   \n",
       "594  2023-08-30        8475         9654        10925         1619   \n",
       "595  2023-08-31        7447         7904         8933         1406   \n",
       "\n",
       "     민락동 178-12   민락동 205-8   민락동 176-33   민락동 18-14   민락동 33-5   민락동 192-4   \\\n",
       "0           2396        4383         7604        2372       3631        5888   \n",
       "1           2289        4511         7864        2279       3767        5759   \n",
       "2           3349        5957        10190        2715       4067        7152   \n",
       "3           5128        8567        14467        2637       5168        8875   \n",
       "4           3997        7089        11603        2193       3506        6975   \n",
       "..           ...         ...          ...         ...        ...         ...   \n",
       "591         4203        7600         8383       10875       1885         677   \n",
       "592         2638        5381         5430        6115       2356         654   \n",
       "593         1813        3861         4064        2174       1908         572   \n",
       "594         2061        3959         4461        1378       2186         549   \n",
       "595         1724        3499         3917         505       1878         589   \n",
       "\n",
       "     민락동 745-3   민락동 110-75   민락동 113-33   민락수변공원(1)   민락동 110-88   \\\n",
       "0          3624         2557         3180        2431         2319   \n",
       "1          3792         2740         3360        2952         2473   \n",
       "2          4384         3093         4063        3230         2937   \n",
       "3          5003         3766         6231        4654         3889   \n",
       "4          3813         3508         5692        4242         3456   \n",
       "..          ...          ...          ...         ...          ...   \n",
       "591        7406         3487         3169        2528         3295   \n",
       "592        7103         3305         2096        1896         2332   \n",
       "593        5761         2882         1663        1470         1601   \n",
       "594        5894         2790         2109        1711         1930   \n",
       "595        5385         2609         1816        1487         1742   \n",
       "\n",
       "     민락동 110-17   민락동 181-201   민락동 181-87   민락동 113-45       합계  \n",
       "0            424          2665         4295         2328   64685  \n",
       "1            423          2477         4222         2550   66093  \n",
       "2            485          3315         5318         3095   81514  \n",
       "3            734          4788         7708         4599  112790  \n",
       "4            622          4046         5671         4126   90986  \n",
       "..           ...           ...          ...          ...     ...  \n",
       "591         3863          3562         4064         3780  120538  \n",
       "592         2995          2669         3144         2834   87776  \n",
       "593         2275          1980         2604         2445   63936  \n",
       "594         2733          2166         2760         2745   70105  \n",
       "595         2269          2055         2448         2566   60179  \n",
       "\n",
       "[596 rows x 21 columns]"
      ]
     },
     "execution_count": 44,
     "metadata": {},
     "output_type": "execute_result"
    }
   ],
   "source": [
    "import numpy as np\n",
    "cols = df.select_dtypes(include=np.number).columns.tolist()\n",
    "print(cols)\n",
    "df['합계'] = df[cols].sum(axis=1)\n",
    "df"
   ]
  },
  {
   "cell_type": "code",
   "execution_count": 45,
   "metadata": {
    "id": "gX8_je7bSstf"
   },
   "outputs": [],
   "source": [
    "#np.where(df['요일'].isin([5,6]),1,0)"
   ]
  },
  {
   "cell_type": "code",
   "execution_count": 46,
   "metadata": {
    "colab": {
     "base_uri": "https://localhost:8080/"
    },
    "id": "NMpe8RxyHW0y",
    "outputId": "f0164b39-8e53-48d1-be78-5ab8bf1f3487"
   },
   "outputs": [
    {
     "name": "stdout",
     "output_type": "stream",
     "text": [
      "<class 'pandas.core.frame.DataFrame'>\n",
      "RangeIndex: 596 entries, 0 to 595\n",
      "Data columns (total 25 columns):\n",
      " #   Column        Non-Null Count  Dtype         \n",
      "---  ------        --------------  -----         \n",
      " 0   날짜            596 non-null    datetime64[ns]\n",
      " 1   민락동 185-5     596 non-null    int64         \n",
      " 2   민락동 175-20    596 non-null    int64         \n",
      " 3   민락동 171-15    596 non-null    int64         \n",
      " 4   민락동 175-16    596 non-null    int64         \n",
      " 5   민락동 178-12    596 non-null    int64         \n",
      " 6   민락동 205-8     596 non-null    int64         \n",
      " 7   민락동 176-33    596 non-null    int64         \n",
      " 8   민락동 18-14     596 non-null    int64         \n",
      " 9   민락동 33-5      596 non-null    int64         \n",
      " 10  민락동 192-4     596 non-null    int64         \n",
      " 11  민락동 745-3     596 non-null    int64         \n",
      " 12  민락동 110-75    596 non-null    int64         \n",
      " 13  민락동 113-33    596 non-null    int64         \n",
      " 14  민락수변공원(1)     596 non-null    int64         \n",
      " 15  민락동 110-88    596 non-null    int64         \n",
      " 16  민락동 110-17    596 non-null    int64         \n",
      " 17  민락동 181-201   596 non-null    int64         \n",
      " 18  민락동 181-87    596 non-null    int64         \n",
      " 19  민락동 113-45    596 non-null    int64         \n",
      " 20  합계            596 non-null    int64         \n",
      " 21  년도            596 non-null    int64         \n",
      " 22  월             596 non-null    int64         \n",
      " 23  요일            596 non-null    int64         \n",
      " 24  공휴일           596 non-null    int64         \n",
      "dtypes: datetime64[ns](1), int64(24)\n",
      "memory usage: 116.5 KB\n"
     ]
    }
   ],
   "source": [
    "df['날짜']= pd.to_datetime(df['날짜'])\n",
    "df['년도']=df['날짜'].dt.year\n",
    "df['월']=df['날짜'].dt.month\n",
    "df['요일']=df['날짜'].dt.dayofweek\n",
    "df['공휴일'] = np.where(df['요일'].isin([5,6]),1,0)\n",
    "df.info()\n"
   ]
  },
  {
   "cell_type": "code",
   "execution_count": 47,
   "metadata": {
    "id": "SyBlEwKtTBN2"
   },
   "outputs": [],
   "source": [
    "#df.loc[df.공휴일==0].tail()"
   ]
  },
  {
   "cell_type": "code",
   "execution_count": 48,
   "metadata": {
    "id": "4CePNZ2wIIU8"
   },
   "outputs": [],
   "source": [
    "#날짜컬럼 삭제\n",
    "df.drop(columns='날짜', inplace=True)"
   ]
  },
  {
   "cell_type": "code",
   "execution_count": 49,
   "metadata": {
    "colab": {
     "base_uri": "https://localhost:8080/"
    },
    "id": "MYHQZc0tJJFB",
    "outputId": "c2ccab13-a3ae-46c3-eeb8-e16421309809"
   },
   "outputs": [
    {
     "data": {
      "text/plain": [
       "array([2021, 2022, 2023])"
      ]
     },
     "execution_count": 49,
     "metadata": {},
     "output_type": "execute_result"
    }
   ],
   "source": [
    "df.년도.unique()"
   ]
  },
  {
   "cell_type": "code",
   "execution_count": 50,
   "metadata": {
    "colab": {
     "base_uri": "https://localhost:8080/",
     "height": 1000
    },
    "id": "981AaQt3JjWa",
    "outputId": "f4f548fe-41c4-4a76-b104-0d56e54f4413"
   },
   "outputs": [
    {
     "data": {
      "text/plain": [
       "<Axes: xlabel='년도', ylabel='합계'>"
      ]
     },
     "execution_count": 50,
     "metadata": {},
     "output_type": "execute_result"
    },
    {
     "data": {
      "image/png": "[encoded data removed]",
      "text/plain": [
       "<Figure size 640x480 with 1 Axes>"
      ]
     },
     "metadata": {},
     "output_type": "display_data"
    }
   ],
   "source": [
    "import seaborn as sns\n",
    "sns.barplot(data = df, x='년도',y='합계')"
   ]
  },
  {
   "cell_type": "code",
   "execution_count": 51,
   "metadata": {
    "colab": {
     "base_uri": "https://localhost:8080/"
    },
    "id": "j56_ixz7XbXK",
    "outputId": "81762a32-c97d-48b1-daa0-698c863b65db"
   },
   "outputs": [
    {
     "name": "stdout",
     "output_type": "stream",
     "text": [
      "Int64Index([ 63,  64, 100, 105, 117, 118, 119, 126, 133, 134, 140, 147, 154,\n",
      "            161, 168, 170, 177, 178, 184, 185, 191, 198, 199, 205, 212, 213,\n",
      "            214, 220, 226, 227, 275, 486, 499, 506, 562, 576, 577],\n",
      "           dtype='int64')\n"
     ]
    }
   ],
   "source": [
    "#이상치 제거, 표준화 방법 사용\n",
    "from scipy.stats import zscore\n",
    "\n",
    "# Z-Score 계산\n",
    "z_scores = zscore(df['합계'])\n",
    "\n",
    "# 특정 임계값 설정 (예: 3)\n",
    "threshold = 2\n",
    "\n",
    "# Z-Score가 임계값을 초과하는 데이터의 인덱스값 저장\n",
    "outliers = df[(np.abs(z_scores) > threshold)].index\n",
    "print(outliers)\n",
    "\n",
    "#print(df[df.index.isin(outliers)])\n",
    "#이상치데이터 삭제\n",
    "df.drop(outliers,inplace=True )\n"
   ]
  },
  {
   "cell_type": "code",
   "execution_count": 52,
   "metadata": {
    "colab": {
     "base_uri": "https://localhost:8080/"
    },
    "id": "QvS93l-lYoWZ",
    "outputId": "b20d6619-c76f-457e-9d27-54a2e25bcd9e"
   },
   "outputs": [
    {
     "data": {
      "text/plain": [
       "(559, 24)"
      ]
     },
     "execution_count": 52,
     "metadata": {},
     "output_type": "execute_result"
    }
   ],
   "source": [
    "df.shape"
   ]
  },
  {
   "cell_type": "code",
   "execution_count": 53,
   "metadata": {
    "id": "S4okcTi5KsUJ"
   },
   "outputs": [],
   "source": [
    "df2 = df[['년도','월','요일','공휴일','합계']]\n",
    "#df2.to_csv('test.csv',encoding='utf-8-sig',index=False)"
   ]
  },
  {
   "cell_type": "code",
   "execution_count": null,
   "metadata": {
    "id": "OAz5tyMCO2iD"
   },
   "outputs": [],
   "source": []
  },
  {
   "cell_type": "code",
   "execution_count": 54,
   "metadata": {
    "colab": {
     "base_uri": "https://localhost:8080/",
     "height": 441
    },
    "id": "hXMQ9Y7oK637",
    "outputId": "4fbd55c3-1e30-466a-9b45-e8bbb8772e01"
   },
   "outputs": [
    {
     "data": {
      "text/html": [
       "<div>\n",
       "<style scoped>\n",
       "    .dataframe tbody tr th:only-of-type {\n",
       "        vertical-align: middle;\n",
       "    }\n",
       "\n",
       "    .dataframe tbody tr th {\n",
       "        vertical-align: top;\n",
       "    }\n",
       "\n",
       "    .dataframe thead th {\n",
       "        text-align: right;\n",
       "    }\n",
       "</style>\n",
       "<table border=\"1\" class=\"dataframe\">\n",
       "  <thead>\n",
       "    <tr style=\"text-align: right;\">\n",
       "      <th></th>\n",
       "      <th>합계</th>\n",
       "      <th>년도_2021</th>\n",
       "      <th>년도_2022</th>\n",
       "      <th>년도_2023</th>\n",
       "      <th>월_1</th>\n",
       "      <th>월_2</th>\n",
       "      <th>월_3</th>\n",
       "      <th>월_4</th>\n",
       "      <th>월_5</th>\n",
       "      <th>월_6</th>\n",
       "      <th>월_7</th>\n",
       "      <th>월_8</th>\n",
       "      <th>월_9</th>\n",
       "      <th>월_10</th>\n",
       "      <th>월_11</th>\n",
       "      <th>월_12</th>\n",
       "      <th>요일_0</th>\n",
       "      <th>요일_1</th>\n",
       "      <th>요일_2</th>\n",
       "      <th>요일_3</th>\n",
       "      <th>요일_4</th>\n",
       "      <th>요일_5</th>\n",
       "      <th>요일_6</th>\n",
       "      <th>공휴일_0</th>\n",
       "      <th>공휴일_1</th>\n",
       "    </tr>\n",
       "  </thead>\n",
       "  <tbody>\n",
       "    <tr>\n",
       "      <th>0</th>\n",
       "      <td>64685</td>\n",
       "      <td>1</td>\n",
       "      <td>0</td>\n",
       "      <td>0</td>\n",
       "      <td>0</td>\n",
       "      <td>0</td>\n",
       "      <td>0</td>\n",
       "      <td>0</td>\n",
       "      <td>0</td>\n",
       "      <td>0</td>\n",
       "      <td>0</td>\n",
       "      <td>0</td>\n",
       "      <td>0</td>\n",
       "      <td>0</td>\n",
       "      <td>0</td>\n",
       "      <td>1</td>\n",
       "      <td>0</td>\n",
       "      <td>0</td>\n",
       "      <td>1</td>\n",
       "      <td>0</td>\n",
       "      <td>0</td>\n",
       "      <td>0</td>\n",
       "      <td>0</td>\n",
       "      <td>1</td>\n",
       "      <td>0</td>\n",
       "    </tr>\n",
       "    <tr>\n",
       "      <th>1</th>\n",
       "      <td>66093</td>\n",
       "      <td>1</td>\n",
       "      <td>0</td>\n",
       "      <td>0</td>\n",
       "      <td>0</td>\n",
       "      <td>0</td>\n",
       "      <td>0</td>\n",
       "      <td>0</td>\n",
       "      <td>0</td>\n",
       "      <td>0</td>\n",
       "      <td>0</td>\n",
       "      <td>0</td>\n",
       "      <td>0</td>\n",
       "      <td>0</td>\n",
       "      <td>0</td>\n",
       "      <td>1</td>\n",
       "      <td>0</td>\n",
       "      <td>0</td>\n",
       "      <td>0</td>\n",
       "      <td>1</td>\n",
       "      <td>0</td>\n",
       "      <td>0</td>\n",
       "      <td>0</td>\n",
       "      <td>1</td>\n",
       "      <td>0</td>\n",
       "    </tr>\n",
       "    <tr>\n",
       "      <th>2</th>\n",
       "      <td>81514</td>\n",
       "      <td>1</td>\n",
       "      <td>0</td>\n",
       "      <td>0</td>\n",
       "      <td>0</td>\n",
       "      <td>0</td>\n",
       "      <td>0</td>\n",
       "      <td>0</td>\n",
       "      <td>0</td>\n",
       "      <td>0</td>\n",
       "      <td>0</td>\n",
       "      <td>0</td>\n",
       "      <td>0</td>\n",
       "      <td>0</td>\n",
       "      <td>0</td>\n",
       "      <td>1</td>\n",
       "      <td>0</td>\n",
       "      <td>0</td>\n",
       "      <td>0</td>\n",
       "      <td>0</td>\n",
       "      <td>1</td>\n",
       "      <td>0</td>\n",
       "      <td>0</td>\n",
       "      <td>1</td>\n",
       "      <td>0</td>\n",
       "    </tr>\n",
       "    <tr>\n",
       "      <th>3</th>\n",
       "      <td>112790</td>\n",
       "      <td>1</td>\n",
       "      <td>0</td>\n",
       "      <td>0</td>\n",
       "      <td>0</td>\n",
       "      <td>0</td>\n",
       "      <td>0</td>\n",
       "      <td>0</td>\n",
       "      <td>0</td>\n",
       "      <td>0</td>\n",
       "      <td>0</td>\n",
       "      <td>0</td>\n",
       "      <td>0</td>\n",
       "      <td>0</td>\n",
       "      <td>0</td>\n",
       "      <td>1</td>\n",
       "      <td>0</td>\n",
       "      <td>0</td>\n",
       "      <td>0</td>\n",
       "      <td>0</td>\n",
       "      <td>0</td>\n",
       "      <td>1</td>\n",
       "      <td>0</td>\n",
       "      <td>0</td>\n",
       "      <td>1</td>\n",
       "    </tr>\n",
       "    <tr>\n",
       "      <th>4</th>\n",
       "      <td>90986</td>\n",
       "      <td>1</td>\n",
       "      <td>0</td>\n",
       "      <td>0</td>\n",
       "      <td>0</td>\n",
       "      <td>0</td>\n",
       "      <td>0</td>\n",
       "      <td>0</td>\n",
       "      <td>0</td>\n",
       "      <td>0</td>\n",
       "      <td>0</td>\n",
       "      <td>0</td>\n",
       "      <td>0</td>\n",
       "      <td>0</td>\n",
       "      <td>0</td>\n",
       "      <td>1</td>\n",
       "      <td>0</td>\n",
       "      <td>0</td>\n",
       "      <td>0</td>\n",
       "      <td>0</td>\n",
       "      <td>0</td>\n",
       "      <td>0</td>\n",
       "      <td>1</td>\n",
       "      <td>0</td>\n",
       "      <td>1</td>\n",
       "    </tr>\n",
       "    <tr>\n",
       "      <th>...</th>\n",
       "      <td>...</td>\n",
       "      <td>...</td>\n",
       "      <td>...</td>\n",
       "      <td>...</td>\n",
       "      <td>...</td>\n",
       "      <td>...</td>\n",
       "      <td>...</td>\n",
       "      <td>...</td>\n",
       "      <td>...</td>\n",
       "      <td>...</td>\n",
       "      <td>...</td>\n",
       "      <td>...</td>\n",
       "      <td>...</td>\n",
       "      <td>...</td>\n",
       "      <td>...</td>\n",
       "      <td>...</td>\n",
       "      <td>...</td>\n",
       "      <td>...</td>\n",
       "      <td>...</td>\n",
       "      <td>...</td>\n",
       "      <td>...</td>\n",
       "      <td>...</td>\n",
       "      <td>...</td>\n",
       "      <td>...</td>\n",
       "      <td>...</td>\n",
       "    </tr>\n",
       "    <tr>\n",
       "      <th>591</th>\n",
       "      <td>120538</td>\n",
       "      <td>0</td>\n",
       "      <td>0</td>\n",
       "      <td>1</td>\n",
       "      <td>0</td>\n",
       "      <td>0</td>\n",
       "      <td>0</td>\n",
       "      <td>0</td>\n",
       "      <td>0</td>\n",
       "      <td>0</td>\n",
       "      <td>0</td>\n",
       "      <td>1</td>\n",
       "      <td>0</td>\n",
       "      <td>0</td>\n",
       "      <td>0</td>\n",
       "      <td>0</td>\n",
       "      <td>0</td>\n",
       "      <td>0</td>\n",
       "      <td>0</td>\n",
       "      <td>0</td>\n",
       "      <td>0</td>\n",
       "      <td>0</td>\n",
       "      <td>1</td>\n",
       "      <td>0</td>\n",
       "      <td>1</td>\n",
       "    </tr>\n",
       "    <tr>\n",
       "      <th>592</th>\n",
       "      <td>87776</td>\n",
       "      <td>0</td>\n",
       "      <td>0</td>\n",
       "      <td>1</td>\n",
       "      <td>0</td>\n",
       "      <td>0</td>\n",
       "      <td>0</td>\n",
       "      <td>0</td>\n",
       "      <td>0</td>\n",
       "      <td>0</td>\n",
       "      <td>0</td>\n",
       "      <td>1</td>\n",
       "      <td>0</td>\n",
       "      <td>0</td>\n",
       "      <td>0</td>\n",
       "      <td>0</td>\n",
       "      <td>1</td>\n",
       "      <td>0</td>\n",
       "      <td>0</td>\n",
       "      <td>0</td>\n",
       "      <td>0</td>\n",
       "      <td>0</td>\n",
       "      <td>0</td>\n",
       "      <td>1</td>\n",
       "      <td>0</td>\n",
       "    </tr>\n",
       "    <tr>\n",
       "      <th>593</th>\n",
       "      <td>63936</td>\n",
       "      <td>0</td>\n",
       "      <td>0</td>\n",
       "      <td>1</td>\n",
       "      <td>0</td>\n",
       "      <td>0</td>\n",
       "      <td>0</td>\n",
       "      <td>0</td>\n",
       "      <td>0</td>\n",
       "      <td>0</td>\n",
       "      <td>0</td>\n",
       "      <td>1</td>\n",
       "      <td>0</td>\n",
       "      <td>0</td>\n",
       "      <td>0</td>\n",
       "      <td>0</td>\n",
       "      <td>0</td>\n",
       "      <td>1</td>\n",
       "      <td>0</td>\n",
       "      <td>0</td>\n",
       "      <td>0</td>\n",
       "      <td>0</td>\n",
       "      <td>0</td>\n",
       "      <td>1</td>\n",
       "      <td>0</td>\n",
       "    </tr>\n",
       "    <tr>\n",
       "      <th>594</th>\n",
       "      <td>70105</td>\n",
       "      <td>0</td>\n",
       "      <td>0</td>\n",
       "      <td>1</td>\n",
       "      <td>0</td>\n",
       "      <td>0</td>\n",
       "      <td>0</td>\n",
       "      <td>0</td>\n",
       "      <td>0</td>\n",
       "      <td>0</td>\n",
       "      <td>0</td>\n",
       "      <td>1</td>\n",
       "      <td>0</td>\n",
       "      <td>0</td>\n",
       "      <td>0</td>\n",
       "      <td>0</td>\n",
       "      <td>0</td>\n",
       "      <td>0</td>\n",
       "      <td>1</td>\n",
       "      <td>0</td>\n",
       "      <td>0</td>\n",
       "      <td>0</td>\n",
       "      <td>0</td>\n",
       "      <td>1</td>\n",
       "      <td>0</td>\n",
       "    </tr>\n",
       "    <tr>\n",
       "      <th>595</th>\n",
       "      <td>60179</td>\n",
       "      <td>0</td>\n",
       "      <td>0</td>\n",
       "      <td>1</td>\n",
       "      <td>0</td>\n",
       "      <td>0</td>\n",
       "      <td>0</td>\n",
       "      <td>0</td>\n",
       "      <td>0</td>\n",
       "      <td>0</td>\n",
       "      <td>0</td>\n",
       "      <td>1</td>\n",
       "      <td>0</td>\n",
       "      <td>0</td>\n",
       "      <td>0</td>\n",
       "      <td>0</td>\n",
       "      <td>0</td>\n",
       "      <td>0</td>\n",
       "      <td>0</td>\n",
       "      <td>1</td>\n",
       "      <td>0</td>\n",
       "      <td>0</td>\n",
       "      <td>0</td>\n",
       "      <td>1</td>\n",
       "      <td>0</td>\n",
       "    </tr>\n",
       "  </tbody>\n",
       "</table>\n",
       "<p>559 rows × 25 columns</p>\n",
       "</div>"
      ],
      "text/plain": [
       "         합계  년도_2021  년도_2022  년도_2023  월_1  월_2  월_3  월_4  월_5  월_6  월_7  \\\n",
       "0     64685        1        0        0    0    0    0    0    0    0    0   \n",
       "1     66093        1        0        0    0    0    0    0    0    0    0   \n",
       "2     81514        1        0        0    0    0    0    0    0    0    0   \n",
       "3    112790        1        0        0    0    0    0    0    0    0    0   \n",
       "4     90986        1        0        0    0    0    0    0    0    0    0   \n",
       "..      ...      ...      ...      ...  ...  ...  ...  ...  ...  ...  ...   \n",
       "591  120538        0        0        1    0    0    0    0    0    0    0   \n",
       "592   87776        0        0        1    0    0    0    0    0    0    0   \n",
       "593   63936        0        0        1    0    0    0    0    0    0    0   \n",
       "594   70105        0        0        1    0    0    0    0    0    0    0   \n",
       "595   60179        0        0        1    0    0    0    0    0    0    0   \n",
       "\n",
       "     월_8  월_9  월_10  월_11  월_12  요일_0  요일_1  요일_2  요일_3  요일_4  요일_5  요일_6  \\\n",
       "0      0    0     0     0     1     0     0     1     0     0     0     0   \n",
       "1      0    0     0     0     1     0     0     0     1     0     0     0   \n",
       "2      0    0     0     0     1     0     0     0     0     1     0     0   \n",
       "3      0    0     0     0     1     0     0     0     0     0     1     0   \n",
       "4      0    0     0     0     1     0     0     0     0     0     0     1   \n",
       "..   ...  ...   ...   ...   ...   ...   ...   ...   ...   ...   ...   ...   \n",
       "591    1    0     0     0     0     0     0     0     0     0     0     1   \n",
       "592    1    0     0     0     0     1     0     0     0     0     0     0   \n",
       "593    1    0     0     0     0     0     1     0     0     0     0     0   \n",
       "594    1    0     0     0     0     0     0     1     0     0     0     0   \n",
       "595    1    0     0     0     0     0     0     0     1     0     0     0   \n",
       "\n",
       "     공휴일_0  공휴일_1  \n",
       "0        1      0  \n",
       "1        1      0  \n",
       "2        1      0  \n",
       "3        0      1  \n",
       "4        0      1  \n",
       "..     ...    ...  \n",
       "591      0      1  \n",
       "592      1      0  \n",
       "593      1      0  \n",
       "594      1      0  \n",
       "595      1      0  \n",
       "\n",
       "[559 rows x 25 columns]"
      ]
     },
     "execution_count": 54,
     "metadata": {},
     "output_type": "execute_result"
    }
   ],
   "source": [
    "#원-핫인코딩\n",
    "df_dummies = pd.get_dummies(df2, columns=['년도', '월', '요일','공휴일'])\n",
    "df_dummies"
   ]
  },
  {
   "cell_type": "code",
   "execution_count": 55,
   "metadata": {
    "id": "I8t7Yp0yOlOF"
   },
   "outputs": [
    {
     "data": {
      "text/plain": [
       "<Axes: >"
      ]
     },
     "execution_count": 55,
     "metadata": {},
     "output_type": "execute_result"
    },
    {
     "data": {
      "image/png": "[encoded data removed]",
      "text/plain": [
       "<Figure size 640x480 with 1 Axes>"
      ]
     },
     "metadata": {},
     "output_type": "display_data"
    }
   ],
   "source": [
    "df2['합계'].hist()"
   ]
  },
  {
   "cell_type": "code",
   "execution_count": 56,
   "metadata": {
    "colab": {
     "base_uri": "https://localhost:8080/"
    },
    "id": "Or3fK8HtKsXS",
    "outputId": "a65cdad3-9e58-41fb-f7cd-1a7baa19552c"
   },
   "outputs": [
    {
     "data": {
      "text/plain": [
       "((447, 24), (112, 24))"
      ]
     },
     "execution_count": 56,
     "metadata": {},
     "output_type": "execute_result"
    }
   ],
   "source": [
    "from sklearn.model_selection import train_test_split\n",
    "\n",
    "X = df_dummies.drop('합계', axis=1)\n",
    "y = df_dummies['합계']\n",
    "\n",
    "# X_train = X.iloc[:480]\n",
    "# X_test = X.iloc[480:]\n",
    "# y_train = y.iloc[:480]\n",
    "# y_test = y.iloc[480:]\n",
    "\n",
    "#학습데이터와 테스트데이터 분리\n",
    "X_train, X_test, y_train, y_test = train_test_split(X,y,\n",
    "                                                    test_size=0.2,\n",
    "                                                    random_state=42)\n",
    "X_train.shape, X_test.shape"
   ]
  },
  {
   "cell_type": "code",
   "execution_count": 57,
   "metadata": {
    "colab": {
     "base_uri": "https://localhost:8080/"
    },
    "id": "hE4jrucpKsai",
    "outputId": "e689e1bc-6d8c-4745-fda4-8e5acf10eda8"
   },
   "outputs": [
    {
     "name": "stdout",
     "output_type": "stream",
     "text": [
      "학습 데이터 r2 : 0.5683455447634949\n",
      "테스트 데이터 r2 : 0.5553388357182951\n"
     ]
    },
    {
     "data": {
      "text/plain": [
       "15062.537836644831"
      ]
     },
     "execution_count": 57,
     "metadata": {},
     "output_type": "execute_result"
    }
   ],
   "source": [
    "#LinearRegression\n",
    "from sklearn.linear_model import LinearRegression\n",
    "from sklearn.metrics import mean_squared_error,r2_score\n",
    "\n",
    "lr = LinearRegression()\n",
    "lr.fit(X_train, y_train)\n",
    "y_pred =lr.predict(X_test)\n",
    "print('학습 데이터 r2 :',lr.score(X_train, y_train))\n",
    "print('테스트 데이터 r2 :',r2_score(y_test, y_pred))\n",
    "np.sqrt(mean_squared_error(y_test, y_pred))"
   ]
  },
  {
   "cell_type": "code",
   "execution_count": 58,
   "metadata": {
    "id": "sSa-vqvrWKEU"
   },
   "outputs": [],
   "source": [
    "def plot_pred_actual(pred, actual):\n",
    "    df = pd.DataFrame({'prediction': pred, 'actual': actual})\n",
    "    df = df.sort_values(by='actual').reset_index(drop=True)\n",
    "    plt.figure(figsize=(8, 6))\n",
    "    plt.scatter(df.index, df['actual'], alpha=0.3, marker='o', color='gray')\n",
    "    plt.scatter(df.index, df['prediction'], marker='x', color='r')\n",
    "    plt.legend(['prediction', 'actual'], fontsize=12)"
   ]
  },
  {
   "cell_type": "code",
   "execution_count": 59,
   "metadata": {
    "colab": {
     "base_uri": "https://localhost:8080/",
     "height": 1000
    },
    "id": "tIMjzFtYWLNy",
    "outputId": "601216b1-edc2-4066-91be-8d23e33e5a9d"
   },
   "outputs": [
    {
     "data": {
      "image/png": "[encoded data removed]",
      "text/plain": [
       "<Figure size 800x600 with 1 Axes>"
      ]
     },
     "metadata": {},
     "output_type": "display_data"
    }
   ],
   "source": [
    "plot_pred_actual(y_pred, y_test)"
   ]
  },
  {
   "cell_type": "code",
   "execution_count": 63,
   "metadata": {
    "colab": {
     "base_uri": "https://localhost:8080/"
    },
    "id": "wxd512foZx9m",
    "outputId": "5b72b21c-66b5-4996-e933-59dfe84da72c"
   },
   "outputs": [
    {
     "name": "stdout",
     "output_type": "stream",
     "text": [
      "학습 데이터 r2 : 0.5683455447634949\n",
      "테스트 데이터 r2 : 0.5553388357182951\n"
     ]
    },
    {
     "data": {
      "text/plain": [
       "15801.899798567634"
      ]
     },
     "execution_count": 63,
     "metadata": {},
     "output_type": "execute_result"
    }
   ],
   "source": [
    "#랜덤포레스트 사용\n",
    "from sklearn.ensemble import RandomForestRegressor\n",
    "from sklearn.metrics import mean_squared_error\n",
    "\n",
    "rf = RandomForestRegressor()\n",
    "rf.fit(X_train, y_train)\n",
    "rf_pred =rf.predict(X_test)\n",
    "print('학습 데이터 r2 :',lr.score(X_train, y_train))\n",
    "print('테스트 데이터 r2 :',r2_score(y_test, y_pred))\n",
    "np.sqrt(mean_squared_error(y_test, rf_pred))"
   ]
  },
  {
   "cell_type": "code",
   "execution_count": 61,
   "metadata": {
    "colab": {
     "base_uri": "https://localhost:8080/",
     "height": 1000
    },
    "id": "sJSLEa-RKsg-",
    "outputId": "b9d0de89-8b7f-42d2-a176-a11e02a7ff4d"
   },
   "outputs": [
    {
     "data": {
      "image/png": "[encoded data removed]",
      "text/plain": [
       "<Figure size 800x600 with 1 Axes>"
      ]
     },
     "metadata": {},
     "output_type": "display_data"
    }
   ],
   "source": [
    "plot_pred_actual(rf_pred, y_test)"
   ]
  },
  {
   "cell_type": "code",
   "execution_count": null,
   "metadata": {
    "id": "vKdGQcP0Ksj1"
   },
   "outputs": [],
   "source": []
  },
  {
   "cell_type": "code",
   "execution_count": 62,
   "metadata": {
    "id": "xZtQXndLKsm1"
   },
   "outputs": [
    {
     "ename": "NameError",
     "evalue": "name 'b' is not defined",
     "output_type": "error",
     "traceback": [
      "\u001b[0;31m---------------------------------------------------------------------------\u001b[0m",
      "\u001b[0;31mNameError\u001b[0m                                 Traceback (most recent call last)",
      "Cell \u001b[0;32mIn[62], line 1\u001b[0m\n\u001b[0;32m----> 1\u001b[0m b\n",
      "\u001b[0;31mNameError\u001b[0m: name 'b' is not defined"
     ]
    }
   ],
   "source": [
    "b"
   ]
  },
  {
   "cell_type": "code",
   "execution_count": null,
   "metadata": {
    "id": "5DLfMZZOKsth"
   },
   "outputs": [],
   "source": []
  }
 ],
 "metadata": {
  "colab": {
   "provenance": []
  },
  "kernelspec": {
   "display_name": "Python 3 (ipykernel)",
   "language": "python",
   "name": "python3"
  },
  "language_info": {
   "codemirror_mode": {
    "name": "ipython",
    "version": 3
   },
   "file_extension": ".py",
   "mimetype": "text/x-python",
   "name": "python",
   "nbconvert_exporter": "python",
   "pygments_lexer": "ipython3",
   "version": "3.11.4"
  }
 },
 "nbformat": 4,
 "nbformat_minor": 1
}
